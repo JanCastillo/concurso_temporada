{
 "cells": [
  {
   "cell_type": "code",
   "execution_count": 1,
   "metadata": {},
   "outputs": [],
   "source": [
    "import os\n",
    "import pandas as pd\n",
    "import numpy as np"
   ]
  },
  {
   "cell_type": "code",
   "execution_count": 2,
   "metadata": {},
   "outputs": [],
   "source": [
    "df1 = pd.read_excel('TP_pivot.xlsx', sheet_name='TODO')"
   ]
  },
  {
   "cell_type": "code",
   "execution_count": 3,
   "metadata": {},
   "outputs": [],
   "source": [
    "df2 = df1.loc[df1['Tipo de tienda'] != 'CONVENIENCIA']"
   ]
  },
  {
   "cell_type": "code",
   "execution_count": 4,
   "metadata": {},
   "outputs": [],
   "source": [
    "df3 = df2[['Store Number','SEMANA','City','State','Tipo de tienda','Region','Retailer',\n",
    "'CADENA','ruta','Area Manager','Area Executive','Whisky','Tequila','Liqueur','Gin','Vodka']]"
   ]
  },
  {
   "cell_type": "code",
   "execution_count": 5,
   "metadata": {},
   "outputs": [],
   "source": [
    "weeks = [40,41,42,43,44]"
   ]
  },
  {
   "cell_type": "code",
   "execution_count": 47,
   "metadata": {},
   "outputs": [],
   "source": [
    "weeks_headers = ['week40','week41','week42','week43','week44']"
   ]
  },
  {
   "cell_type": "code",
   "execution_count": 6,
   "metadata": {},
   "outputs": [],
   "source": [
    "df4 = df3[df3['SEMANA'].isin(weeks)]"
   ]
  },
  {
   "cell_type": "code",
   "execution_count": 7,
   "metadata": {},
   "outputs": [],
   "source": [
    "df5 = df4.groupby(['Store Number','SEMANA','City','State','Tipo de tienda','Region','Retailer','CADENA','ruta',\n",
    "'Area Manager','Area Executive']).sum().reset_index()"
   ]
  },
  {
   "cell_type": "code",
   "execution_count": 8,
   "metadata": {},
   "outputs": [],
   "source": [
    "df5['Tequila Score'] = np.where((df5['Whisky'] >= 2) & (df5['Tequila'] >= 1), (df5['Tequila'])*2, 0)"
   ]
  },
  {
   "cell_type": "code",
   "execution_count": 9,
   "metadata": {},
   "outputs": [],
   "source": [
    "df5['Liqueur Score'] = np.where((df5['Whisky'] >= 2) & (df5['Liqueur'] >= 1), (df5['Liqueur'])*1, 0)"
   ]
  },
  {
   "cell_type": "code",
   "execution_count": 10,
   "metadata": {},
   "outputs": [],
   "source": [
    "df5['Gin Score'] = np.where((df5['Whisky'] >= 2) & (df5['Gin'] >= 1), (df5['Gin'])*1, 0)"
   ]
  },
  {
   "cell_type": "code",
   "execution_count": 11,
   "metadata": {},
   "outputs": [],
   "source": [
    "df5['Vodka Score'] = np.where((df5['Whisky'] >= 2) & (df5['Vodka'] >= 1), (df5['Vodka'])*1, 0)"
   ]
  },
  {
   "cell_type": "code",
   "execution_count": 12,
   "metadata": {},
   "outputs": [],
   "source": [
    "df5['Total Score'] = df5['Tequila Score'] + df5['Liqueur Score'] + df5['Gin Score'] + df5['Vodka Score']"
   ]
  },
  {
   "cell_type": "code",
   "execution_count": 13,
   "metadata": {},
   "outputs": [],
   "source": [
    "def conditionA(row):\n",
    "    if row['Tequila'] >= 1:\n",
    "        return 1\n",
    "    else:\n",
    "        return 0"
   ]
  },
  {
   "cell_type": "code",
   "execution_count": 14,
   "metadata": {},
   "outputs": [],
   "source": [
    "def conditionB(row):\n",
    "    if row['Liqueur'] >= 1:\n",
    "        return 1\n",
    "    else:\n",
    "        return 0"
   ]
  },
  {
   "cell_type": "code",
   "execution_count": 15,
   "metadata": {},
   "outputs": [],
   "source": [
    "def conditionC(row):\n",
    "    if row['Gin'] >= 1:\n",
    "        return 1\n",
    "    else:\n",
    "        return 0"
   ]
  },
  {
   "cell_type": "code",
   "execution_count": 16,
   "metadata": {},
   "outputs": [],
   "source": [
    "def conditionD(row):\n",
    "    if row['Vodka'] >= 1:\n",
    "        return 1\n",
    "    else:\n",
    "        return 0"
   ]
  },
  {
   "cell_type": "code",
   "execution_count": 17,
   "metadata": {},
   "outputs": [],
   "source": [
    "df5['Tequila2'] = df5.apply(lambda row: conditionA(row), axis=1)"
   ]
  },
  {
   "cell_type": "code",
   "execution_count": 18,
   "metadata": {},
   "outputs": [],
   "source": [
    "df5['Liqueur2'] = df5.apply(lambda row: conditionB(row), axis=1)"
   ]
  },
  {
   "cell_type": "code",
   "execution_count": 19,
   "metadata": {},
   "outputs": [],
   "source": [
    "df5['Gin2'] = df5.apply(lambda row: conditionC(row), axis=1)"
   ]
  },
  {
   "cell_type": "code",
   "execution_count": 20,
   "metadata": {},
   "outputs": [],
   "source": [
    "df5['Vodka2'] = df5.apply(lambda row: conditionD(row), axis=1)"
   ]
  },
  {
   "cell_type": "code",
   "execution_count": 21,
   "metadata": {},
   "outputs": [],
   "source": [
    "df5['Tequila2'] = df5['Tequila2'] / 5\n",
    "df5['Liqueur2'] = df5['Liqueur2'] / 5\n",
    "df5['Gin2'] = df5['Gin2'] / 5\n",
    "df5['Vodka2'] = df5['Vodka2'] / 5"
   ]
  },
  {
   "cell_type": "code",
   "execution_count": 89,
   "metadata": {},
   "outputs": [],
   "source": [
    "df_score = df5[['Store Number','ruta','SEMANA',\n",
    "'Whisky','Tequila','Liqueur','Gin','Vodka','Total Score']]"
   ]
  },
  {
   "cell_type": "code",
   "execution_count": 23,
   "metadata": {},
   "outputs": [],
   "source": [
    "df_extrap = df5[['Store Number','ruta','SEMANA',\n",
    "'Tequila2','Liqueur2','Gin2','Vodka2']]"
   ]
  },
  {
   "cell_type": "code",
   "execution_count": 24,
   "metadata": {},
   "outputs": [],
   "source": [
    "df_score_ruta = df_score.groupby(['ruta','SEMANA']).agg({\n",
    "'Store Number': 'count',\n",
    "'Whisky': 'sum',\n",
    "'Tequila': 'sum',\n",
    "'Liqueur': 'sum',\n",
    "'Gin': 'sum',\n",
    "'Vodka': 'sum',\n",
    "'Total Score': 'sum',\n",
    "}).reset_index()"
   ]
  },
  {
   "cell_type": "code",
   "execution_count": 25,
   "metadata": {},
   "outputs": [],
   "source": [
    "df_score_ruta = df_score_ruta[['ruta','SEMANA','Total Score']]"
   ]
  },
  {
   "cell_type": "code",
   "execution_count": 48,
   "metadata": {},
   "outputs": [],
   "source": [
    "pivot_weekly_score = pd.pivot_table(df_score_ruta,\n",
    "index=['ruta'],\n",
    "columns=['SEMANA'], aggfunc='sum', fill_value=0).reset_index()"
   ]
  },
  {
   "cell_type": "code",
   "execution_count": 49,
   "metadata": {},
   "outputs": [],
   "source": [
    "pivot_weekly_score.columns = pivot_weekly_score.columns.get_level_values(0)"
   ]
  },
  {
   "cell_type": "code",
   "execution_count": 50,
   "metadata": {},
   "outputs": [],
   "source": [
    "pivot_weekly_score.columns = pivot_weekly_score.columns[:1].tolist() + weeks_headers"
   ]
  },
  {
   "cell_type": "code",
   "execution_count": 51,
   "metadata": {},
   "outputs": [],
   "source": [
    "df_extrap_store = df_extrap.groupby(['Store Number','ruta']).agg({\n",
    "'Store Number': 'count',\n",
    "'Tequila2': 'sum',\n",
    "'Liqueur2': 'sum',\n",
    "'Gin2': 'sum',\n",
    "'Vodka2': 'sum',\n",
    "})"
   ]
  },
  {
   "cell_type": "code",
   "execution_count": 52,
   "metadata": {},
   "outputs": [],
   "source": [
    "df_extrap_store = df_extrap_store.rename(columns={'Store Number': 'Weeks visited'}).reset_index()"
   ]
  },
  {
   "cell_type": "code",
   "execution_count": 53,
   "metadata": {},
   "outputs": [],
   "source": [
    "df_extrap_store['Tequila EP'] = [2 if x == 1 else 0 for x in df_extrap_store['Tequila2']]\n",
    "df_extrap_store['Liqueur EP'] = [2 if x == 1 else 0 for x in df_extrap_store['Liqueur2']]\n",
    "df_extrap_store['Gin EP'] = [2 if x == 1 else 0 for x in df_extrap_store['Gin2']]\n",
    "df_extrap_store['Vodka EP'] = [2 if x == 1 else 0 for x in df_extrap_store['Vodka2']]\n",
    "df_extrap_store['Total EP'] = df_extrap_store['Tequila EP'] + df_extrap_store['Liqueur EP'] + df_extrap_store['Gin EP'] + df_extrap_store['Vodka EP']"
   ]
  },
  {
   "cell_type": "code",
   "execution_count": 54,
   "metadata": {},
   "outputs": [],
   "source": [
    "df_extrap_store = df_extrap_store[['Store Number','ruta','Weeks visited','Tequila EP','Liqueur EP','Gin EP','Vodka EP','Total EP']]"
   ]
  },
  {
   "cell_type": "code",
   "execution_count": 55,
   "metadata": {},
   "outputs": [],
   "source": [
    "df_extrap_ruta = df_extrap_store[['ruta','Total EP']]"
   ]
  },
  {
   "cell_type": "code",
   "execution_count": 56,
   "metadata": {},
   "outputs": [],
   "source": [
    "df_extrap_ruta = df_extrap_ruta.groupby('ruta').sum().reset_index()"
   ]
  },
  {
   "cell_type": "code",
   "execution_count": 62,
   "metadata": {},
   "outputs": [],
   "source": [
    "df_leaderboard = pivot_weekly_score.merge(df_extrap_ruta, on='ruta')"
   ]
  },
  {
   "cell_type": "code",
   "execution_count": 63,
   "metadata": {},
   "outputs": [],
   "source": [
    "df_leaderboard['Final Score'] = df_leaderboard.sum(axis=1, numeric_only=True)"
   ]
  },
  {
   "cell_type": "code",
   "execution_count": 64,
   "metadata": {},
   "outputs": [],
   "source": [
    "df_leaderboard = df_leaderboard.sort_values(by='Final Score', ascending=False)"
   ]
  },
  {
   "cell_type": "code",
   "execution_count": 69,
   "metadata": {},
   "outputs": [],
   "source": [
    "df_leaderboard['Lugar'] = np.arange(1,len(df_leaderboard)+1)"
   ]
  },
  {
   "cell_type": "code",
   "execution_count": 70,
   "metadata": {},
   "outputs": [
    {
     "data": {
      "text/html": [
       "<div>\n",
       "<style scoped>\n",
       "    .dataframe tbody tr th:only-of-type {\n",
       "        vertical-align: middle;\n",
       "    }\n",
       "\n",
       "    .dataframe tbody tr th {\n",
       "        vertical-align: top;\n",
       "    }\n",
       "\n",
       "    .dataframe thead th {\n",
       "        text-align: right;\n",
       "    }\n",
       "</style>\n",
       "<table border=\"1\" class=\"dataframe\">\n",
       "  <thead>\n",
       "    <tr style=\"text-align: right;\">\n",
       "      <th></th>\n",
       "      <th>ruta</th>\n",
       "      <th>week40</th>\n",
       "      <th>week41</th>\n",
       "      <th>week42</th>\n",
       "      <th>week43</th>\n",
       "      <th>week44</th>\n",
       "      <th>Total EP</th>\n",
       "      <th>Final Score</th>\n",
       "      <th>Lugar</th>\n",
       "    </tr>\n",
       "  </thead>\n",
       "  <tbody>\n",
       "    <tr>\n",
       "      <th>91</th>\n",
       "      <td>PROM.SEM.21</td>\n",
       "      <td>10</td>\n",
       "      <td>9</td>\n",
       "      <td>8</td>\n",
       "      <td>10</td>\n",
       "      <td>11</td>\n",
       "      <td>4</td>\n",
       "      <td>52</td>\n",
       "      <td>1</td>\n",
       "    </tr>\n",
       "    <tr>\n",
       "      <th>230</th>\n",
       "      <td>PROM.SEM.66</td>\n",
       "      <td>7</td>\n",
       "      <td>7</td>\n",
       "      <td>6</td>\n",
       "      <td>6</td>\n",
       "      <td>5</td>\n",
       "      <td>6</td>\n",
       "      <td>37</td>\n",
       "      <td>2</td>\n",
       "    </tr>\n",
       "    <tr>\n",
       "      <th>37</th>\n",
       "      <td>PROM.SEM.144</td>\n",
       "      <td>4</td>\n",
       "      <td>4</td>\n",
       "      <td>8</td>\n",
       "      <td>7</td>\n",
       "      <td>7</td>\n",
       "      <td>6</td>\n",
       "      <td>36</td>\n",
       "      <td>3</td>\n",
       "    </tr>\n",
       "    <tr>\n",
       "      <th>243</th>\n",
       "      <td>PROM.SEM.82</td>\n",
       "      <td>6</td>\n",
       "      <td>3</td>\n",
       "      <td>7</td>\n",
       "      <td>10</td>\n",
       "      <td>5</td>\n",
       "      <td>2</td>\n",
       "      <td>33</td>\n",
       "      <td>4</td>\n",
       "    </tr>\n",
       "    <tr>\n",
       "      <th>75</th>\n",
       "      <td>PROM.SEM.192</td>\n",
       "      <td>4</td>\n",
       "      <td>4</td>\n",
       "      <td>3</td>\n",
       "      <td>10</td>\n",
       "      <td>8</td>\n",
       "      <td>2</td>\n",
       "      <td>31</td>\n",
       "      <td>5</td>\n",
       "    </tr>\n",
       "  </tbody>\n",
       "</table>\n",
       "</div>"
      ],
      "text/plain": [
       "             ruta  week40  week41  week42  week43  week44  Total EP  \\\n",
       "91    PROM.SEM.21      10       9       8      10      11         4   \n",
       "230   PROM.SEM.66       7       7       6       6       5         6   \n",
       "37   PROM.SEM.144       4       4       8       7       7         6   \n",
       "243   PROM.SEM.82       6       3       7      10       5         2   \n",
       "75   PROM.SEM.192       4       4       3      10       8         2   \n",
       "\n",
       "     Final Score  Lugar  \n",
       "91            52      1  \n",
       "230           37      2  \n",
       "37            36      3  \n",
       "243           33      4  \n",
       "75            31      5  "
      ]
     },
     "execution_count": 70,
     "metadata": {},
     "output_type": "execute_result"
    }
   ],
   "source": [
    "df_leaderboard.head() #portada del sitio web, ordenar del primer al ultimo lugar"
   ]
  },
  {
   "cell_type": "code",
   "execution_count": 38,
   "metadata": {},
   "outputs": [
    {
     "data": {
      "text/html": [
       "<div>\n",
       "<style scoped>\n",
       "    .dataframe tbody tr th:only-of-type {\n",
       "        vertical-align: middle;\n",
       "    }\n",
       "\n",
       "    .dataframe tbody tr th {\n",
       "        vertical-align: top;\n",
       "    }\n",
       "\n",
       "    .dataframe thead th {\n",
       "        text-align: right;\n",
       "    }\n",
       "</style>\n",
       "<table border=\"1\" class=\"dataframe\">\n",
       "  <thead>\n",
       "    <tr style=\"text-align: right;\">\n",
       "      <th></th>\n",
       "      <th>Store Number</th>\n",
       "      <th>ruta</th>\n",
       "      <th>Weeks visited</th>\n",
       "      <th>Tequila EP</th>\n",
       "      <th>Liqueur EP</th>\n",
       "      <th>Gin EP</th>\n",
       "      <th>Vodka EP</th>\n",
       "      <th>Total EP</th>\n",
       "    </tr>\n",
       "  </thead>\n",
       "  <tbody>\n",
       "    <tr>\n",
       "      <th>0</th>\n",
       "      <td>3</td>\n",
       "      <td>PROM.SEM.153</td>\n",
       "      <td>3</td>\n",
       "      <td>0</td>\n",
       "      <td>0</td>\n",
       "      <td>0</td>\n",
       "      <td>0</td>\n",
       "      <td>0</td>\n",
       "    </tr>\n",
       "    <tr>\n",
       "      <th>1</th>\n",
       "      <td>5</td>\n",
       "      <td>PROM.SEM.153</td>\n",
       "      <td>1</td>\n",
       "      <td>0</td>\n",
       "      <td>0</td>\n",
       "      <td>0</td>\n",
       "      <td>0</td>\n",
       "      <td>0</td>\n",
       "    </tr>\n",
       "    <tr>\n",
       "      <th>2</th>\n",
       "      <td>6</td>\n",
       "      <td>PROM.SEM.153</td>\n",
       "      <td>2</td>\n",
       "      <td>0</td>\n",
       "      <td>0</td>\n",
       "      <td>0</td>\n",
       "      <td>0</td>\n",
       "      <td>0</td>\n",
       "    </tr>\n",
       "    <tr>\n",
       "      <th>3</th>\n",
       "      <td>23</td>\n",
       "      <td>PROM.SEM.316</td>\n",
       "      <td>5</td>\n",
       "      <td>0</td>\n",
       "      <td>0</td>\n",
       "      <td>0</td>\n",
       "      <td>2</td>\n",
       "      <td>2</td>\n",
       "    </tr>\n",
       "    <tr>\n",
       "      <th>4</th>\n",
       "      <td>26</td>\n",
       "      <td>PROM.SEM.335</td>\n",
       "      <td>5</td>\n",
       "      <td>0</td>\n",
       "      <td>0</td>\n",
       "      <td>0</td>\n",
       "      <td>0</td>\n",
       "      <td>0</td>\n",
       "    </tr>\n",
       "  </tbody>\n",
       "</table>\n",
       "</div>"
      ],
      "text/plain": [
       "   Store Number          ruta  Weeks visited  Tequila EP  Liqueur EP  Gin EP  \\\n",
       "0             3  PROM.SEM.153              3           0           0       0   \n",
       "1             5  PROM.SEM.153              1           0           0       0   \n",
       "2             6  PROM.SEM.153              2           0           0       0   \n",
       "3            23  PROM.SEM.316              5           0           0       0   \n",
       "4            26  PROM.SEM.335              5           0           0       0   \n",
       "\n",
       "   Vodka EP  Total EP  \n",
       "0         0         0  \n",
       "1         0         0  \n",
       "2         0         0  \n",
       "3         2         2  \n",
       "4         0         0  "
      ]
     },
     "execution_count": 38,
     "metadata": {},
     "output_type": "execute_result"
    }
   ],
   "source": [
    "df_extrap_store.head() #usar esta en una pagina para comprobar puntos extra"
   ]
  },
  {
   "cell_type": "code",
   "execution_count": 102,
   "metadata": {},
   "outputs": [
    {
     "data": {
      "text/html": [
       "<div>\n",
       "<style scoped>\n",
       "    .dataframe tbody tr th:only-of-type {\n",
       "        vertical-align: middle;\n",
       "    }\n",
       "\n",
       "    .dataframe tbody tr th {\n",
       "        vertical-align: top;\n",
       "    }\n",
       "\n",
       "    .dataframe thead th {\n",
       "        text-align: right;\n",
       "    }\n",
       "</style>\n",
       "<table border=\"1\" class=\"dataframe\">\n",
       "  <thead>\n",
       "    <tr style=\"text-align: right;\">\n",
       "      <th></th>\n",
       "      <th>store</th>\n",
       "      <th>ruta</th>\n",
       "      <th>week</th>\n",
       "      <th>whisky</th>\n",
       "      <th>tequila</th>\n",
       "      <th>licor</th>\n",
       "      <th>ginebra</th>\n",
       "      <th>vodka</th>\n",
       "      <th>score</th>\n",
       "      <th>name</th>\n",
       "    </tr>\n",
       "  </thead>\n",
       "  <tbody>\n",
       "    <tr>\n",
       "      <th>0</th>\n",
       "      <td>3</td>\n",
       "      <td>PROM.SEM.153</td>\n",
       "      <td>41</td>\n",
       "      <td>1</td>\n",
       "      <td>0</td>\n",
       "      <td>0</td>\n",
       "      <td>0</td>\n",
       "      <td>0</td>\n",
       "      <td>0</td>\n",
       "      <td>3 MERZA TRADICIONAL ESTACION (SD)</td>\n",
       "    </tr>\n",
       "    <tr>\n",
       "      <th>1</th>\n",
       "      <td>3</td>\n",
       "      <td>PROM.SEM.153</td>\n",
       "      <td>42</td>\n",
       "      <td>1</td>\n",
       "      <td>0</td>\n",
       "      <td>0</td>\n",
       "      <td>0</td>\n",
       "      <td>0</td>\n",
       "      <td>0</td>\n",
       "      <td>3 MERZA TRADICIONAL ESTACION (SD)</td>\n",
       "    </tr>\n",
       "    <tr>\n",
       "      <th>2</th>\n",
       "      <td>3</td>\n",
       "      <td>PROM.SEM.153</td>\n",
       "      <td>43</td>\n",
       "      <td>2</td>\n",
       "      <td>0</td>\n",
       "      <td>0</td>\n",
       "      <td>0</td>\n",
       "      <td>0</td>\n",
       "      <td>0</td>\n",
       "      <td>3 MERZA TRADICIONAL ESTACION (SD)</td>\n",
       "    </tr>\n",
       "    <tr>\n",
       "      <th>3</th>\n",
       "      <td>5</td>\n",
       "      <td>PROM.SEM.153</td>\n",
       "      <td>43</td>\n",
       "      <td>2</td>\n",
       "      <td>0</td>\n",
       "      <td>0</td>\n",
       "      <td>0</td>\n",
       "      <td>0</td>\n",
       "      <td>0</td>\n",
       "      <td>5 MERZA TRADICIONAL BODEGA DE DESCUENTOS (SD)</td>\n",
       "    </tr>\n",
       "    <tr>\n",
       "      <th>4</th>\n",
       "      <td>6</td>\n",
       "      <td>PROM.SEM.153</td>\n",
       "      <td>42</td>\n",
       "      <td>1</td>\n",
       "      <td>0</td>\n",
       "      <td>0</td>\n",
       "      <td>0</td>\n",
       "      <td>0</td>\n",
       "      <td>0</td>\n",
       "      <td>6 MERZA TRADICIONAL JARDINADAS (SD)</td>\n",
       "    </tr>\n",
       "  </tbody>\n",
       "</table>\n",
       "</div>"
      ],
      "text/plain": [
       "   store          ruta  week  whisky  tequila  licor  ginebra  vodka  score  \\\n",
       "0      3  PROM.SEM.153    41       1        0      0        0      0      0   \n",
       "1      3  PROM.SEM.153    42       1        0      0        0      0      0   \n",
       "2      3  PROM.SEM.153    43       2        0      0        0      0      0   \n",
       "3      5  PROM.SEM.153    43       2        0      0        0      0      0   \n",
       "4      6  PROM.SEM.153    42       1        0      0        0      0      0   \n",
       "\n",
       "                                            name  \n",
       "0              3 MERZA TRADICIONAL ESTACION (SD)  \n",
       "1              3 MERZA TRADICIONAL ESTACION (SD)  \n",
       "2              3 MERZA TRADICIONAL ESTACION (SD)  \n",
       "3  5 MERZA TRADICIONAL BODEGA DE DESCUENTOS (SD)  \n",
       "4            6 MERZA TRADICIONAL JARDINADAS (SD)  "
      ]
     },
     "execution_count": 102,
     "metadata": {},
     "output_type": "execute_result"
    }
   ],
   "source": [
    "df_score.head() #usar esta en una pagina para comprobar puntos base, con filtros en store, ruta y semana "
   ]
  },
  {
   "cell_type": "code",
   "execution_count": 91,
   "metadata": {},
   "outputs": [
    {
     "data": {
      "text/plain": [
       "17"
      ]
     },
     "execution_count": 91,
     "metadata": {},
     "output_type": "execute_result"
    }
   ],
   "source": [
    "df_score.loc[df_score['ruta'] == 'PROM.SEM.03']['Total Score'].sum()"
   ]
  },
  {
   "cell_type": "code",
   "execution_count": 60,
   "metadata": {},
   "outputs": [],
   "source": [
    "df_leaderboard = df_leaderboard.rename(columns={\n",
    "'Total EP': 'ep',\n",
    "'Final Score': 'fs'\n",
    "})"
   ]
  },
  {
   "cell_type": "code",
   "execution_count": 44,
   "metadata": {},
   "outputs": [],
   "source": [
    "df_extrap_store = df_extrap_store.rename(columns={\n",
    "'Store Number': 'store',\n",
    "'SEMANA': 'week',\n",
    "'Weeks visited': 'wv',\n",
    "'Whisky EP': 'whisky',\n",
    "'Tequila EP': 'tequila',\n",
    "'Liqueur EP': 'licor',\n",
    "'Gin EP': 'ginebra',\n",
    "'Vodka EP': 'vodka',\n",
    "'Total EP': 'ep'\n",
    "})"
   ]
  },
  {
   "cell_type": "code",
   "execution_count": 96,
   "metadata": {},
   "outputs": [],
   "source": [
    "df_score = df_score.rename(columns={\n",
    "'Store Number': 'store',\n",
    "'SEMANA': 'week',\n",
    "'Whisky': 'whisky',\n",
    "'Tequila': 'tequila',\n",
    "'Liqueur': 'licor',\n",
    "'Gin': 'ginebra',\n",
    "'Vodka': 'vodka',\n",
    "'Total Score': 'score'\n",
    "})"
   ]
  },
  {
   "cell_type": "code",
   "execution_count": null,
   "metadata": {},
   "outputs": [],
   "source": [
    "df2_store_names = df2[['Store Number','Store Name']]"
   ]
  },
  {
   "cell_type": "code",
   "execution_count": null,
   "metadata": {},
   "outputs": [],
   "source": [
    "df2_store_names = df2_store_names.rename(columns={\n",
    "'Store Number': 'store',\n",
    "'Store Name': 'name'\n",
    "})"
   ]
  },
  {
   "cell_type": "code",
   "execution_count": null,
   "metadata": {},
   "outputs": [],
   "source": [
    "df2_store_names = df2_store_names.drop_duplicates(subset='store')"
   ]
  },
  {
   "cell_type": "code",
   "execution_count": null,
   "metadata": {},
   "outputs": [],
   "source": [
    "df_score = df_score.merge(df2_store_names, how='left')"
   ]
  },
  {
   "cell_type": "code",
   "execution_count": 104,
   "metadata": {},
   "outputs": [],
   "source": [
    "df_score = df_score[['name','ruta','week','whisky','tequila','licor','ginebra','vodka','score']]"
   ]
  },
  {
   "cell_type": "code",
   "execution_count": 71,
   "metadata": {},
   "outputs": [],
   "source": [
    "df_leaderboard.to_json('leaderboard.js', orient='records')"
   ]
  },
  {
   "cell_type": "code",
   "execution_count": 108,
   "metadata": {},
   "outputs": [],
   "source": [
    "df_score.to_json('score.js', orient='records')"
   ]
  },
  {
   "cell_type": "code",
   "execution_count": 103,
   "metadata": {},
   "outputs": [
    {
     "data": {
      "text/plain": [
       "store      4773\n",
       "ruta       4773\n",
       "week       4773\n",
       "whisky     4773\n",
       "tequila    4773\n",
       "licor      4773\n",
       "ginebra    4773\n",
       "vodka      4773\n",
       "score      4773\n",
       "name       4773\n",
       "dtype: int64"
      ]
     },
     "execution_count": 103,
     "metadata": {},
     "output_type": "execute_result"
    }
   ],
   "source": [
    "df_score.count() #trate el nombre del PDV, pero asegurate que se mantenga este conteo"
   ]
  },
  {
   "cell_type": "code",
   "execution_count": 40,
   "metadata": {},
   "outputs": [],
   "source": [
    "#haz lo mismo para conveniencia, toma en cuenta VDM = 1 WHISKY + 1 ADICIONAL"
   ]
  }
 ],
 "metadata": {
  "kernelspec": {
   "display_name": "Python 3",
   "language": "python",
   "name": "python3"
  },
  "language_info": {
   "codemirror_mode": {
    "name": "ipython",
    "version": 3
   },
   "file_extension": ".py",
   "mimetype": "text/x-python",
   "name": "python",
   "nbconvert_exporter": "python",
   "pygments_lexer": "ipython3",
   "version": "3.8.3"
  }
 },
 "nbformat": 4,
 "nbformat_minor": 4
}
